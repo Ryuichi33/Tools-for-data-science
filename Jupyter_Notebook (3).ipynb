{
  "metadata": {
    "kernelspec": {
      "name": "python",
      "display_name": "Pyolite",
      "language": "python"
    },
    "language_info": {
      "codemirror_mode": {
        "name": "python",
        "version": 3
      },
      "file_extension": ".py",
      "mimetype": "text/x-python",
      "name": "python",
      "nbconvert_exporter": "python",
      "pygments_lexer": "ipython3",
      "version": "3.8"
    }
  },
  "nbformat_minor": 4,
  "nbformat": 4,
  "cells": [
    {
      "cell_type": "markdown",
      "source": "<center>\n    <img src=\"https://s3-api.us-geo.objectstorage.softlayer.net/cf-courses-data/CognitiveClass/Logos/organization_logo/organization_logo.png\" width=\"300\" alt=\"cognitiveclass.ai logo\"  />\n</center>\n",
      "metadata": {}
    },
    {
      "cell_type": "markdown",
      "source": "#### Add your code below following the instructions given in the course\n",
      "metadata": {}
    },
    {
      "cell_type": "markdown",
      "source": "#My Jupyter Notebook on IBM Watson Studio",
      "metadata": {}
    },
    {
      "cell_type": "markdown",
      "source": "__Alian Ryuichi Mando__\n\nData Scientist",
      "metadata": {}
    },
    {
      "cell_type": "markdown",
      "source": "_I am interested in data sceince because of its utilisation of many disciplines to create exciting processes that lead to valuable insights. There is a lot of scope in terms of learning and practical use, so i can see myself pursuing this for decades to come without ever getting bored!_",
      "metadata": {}
    },
    {
      "cell_type": "markdown",
      "source": "###The code below should print 'I love data science!'",
      "metadata": {}
    },
    {
      "cell_type": "code",
      "source": "print(\"I love data science!\")",
      "metadata": {
        "trusted": true
      },
      "execution_count": 1,
      "outputs": [
        {
          "name": "stdout",
          "text": "I love data science!\n",
          "output_type": "stream"
        }
      ]
    },
    {
      "cell_type": "markdown",
      "source": "---\n>Thanks for reading\n***\n- Facts about me\n1. Born in London\n1. Half Japanese/Egyptian\n1. 24 years old\n1. Economics grad\n1. I Love Judo",
      "metadata": {}
    }
  ]
}